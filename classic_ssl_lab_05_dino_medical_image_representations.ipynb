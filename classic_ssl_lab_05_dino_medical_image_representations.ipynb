{
  "nbformat": 4,
  "nbformat_minor": 0,
  "metadata": {
    "colab": {
      "provenance": [],
      "gpuType": "A100"
    },
    "kernelspec": {
      "name": "python3",
      "display_name": "Python 3"
    },
    "language_info": {
      "name": "python"
    },
    "accelerator": "GPU",
    "widgets": {
      "application/vnd.jupyter.widget-state+json": {
        "6ced2741f3d84a54a03b50c60b7044b6": {
          "model_module": "@jupyter-widgets/controls",
          "model_name": "HBoxModel",
          "model_module_version": "1.5.0",
          "state": {
            "_dom_classes": [],
            "_model_module": "@jupyter-widgets/controls",
            "_model_module_version": "1.5.0",
            "_model_name": "HBoxModel",
            "_view_count": null,
            "_view_module": "@jupyter-widgets/controls",
            "_view_module_version": "1.5.0",
            "_view_name": "HBoxView",
            "box_style": "",
            "children": [
              "IPY_MODEL_68385c6fae2a4b57887cbc2b84eecad5",
              "IPY_MODEL_44bb6ef9e7f74eca8286e5ebd13d691f",
              "IPY_MODEL_8484be35b56045cca06bbada06b4d06d"
            ],
            "layout": "IPY_MODEL_c9615f1f3c204b0c9b766bc508c715ed"
          }
        },
        "68385c6fae2a4b57887cbc2b84eecad5": {
          "model_module": "@jupyter-widgets/controls",
          "model_name": "HTMLModel",
          "model_module_version": "1.5.0",
          "state": {
            "_dom_classes": [],
            "_model_module": "@jupyter-widgets/controls",
            "_model_module_version": "1.5.0",
            "_model_name": "HTMLModel",
            "_view_count": null,
            "_view_module": "@jupyter-widgets/controls",
            "_view_module_version": "1.5.0",
            "_view_name": "HTMLView",
            "description": "",
            "description_tooltip": null,
            "layout": "IPY_MODEL_7317a01fcfe24288b63cea7d3c1b57d0",
            "placeholder": "​",
            "style": "IPY_MODEL_310e0151335046d9af00a92c0b2004ab",
            "value": "model.safetensors: 100%"
          }
        },
        "44bb6ef9e7f74eca8286e5ebd13d691f": {
          "model_module": "@jupyter-widgets/controls",
          "model_name": "FloatProgressModel",
          "model_module_version": "1.5.0",
          "state": {
            "_dom_classes": [],
            "_model_module": "@jupyter-widgets/controls",
            "_model_module_version": "1.5.0",
            "_model_name": "FloatProgressModel",
            "_view_count": null,
            "_view_module": "@jupyter-widgets/controls",
            "_view_module_version": "1.5.0",
            "_view_name": "ProgressView",
            "bar_style": "success",
            "description": "",
            "description_tooltip": null,
            "layout": "IPY_MODEL_9c951a78e3f84141be8eb05342430d1d",
            "max": 86676340,
            "min": 0,
            "orientation": "horizontal",
            "style": "IPY_MODEL_f6729f6ae62c45a2972f0508ad5fd7a1",
            "value": 86676340
          }
        },
        "8484be35b56045cca06bbada06b4d06d": {
          "model_module": "@jupyter-widgets/controls",
          "model_name": "HTMLModel",
          "model_module_version": "1.5.0",
          "state": {
            "_dom_classes": [],
            "_model_module": "@jupyter-widgets/controls",
            "_model_module_version": "1.5.0",
            "_model_name": "HTMLModel",
            "_view_count": null,
            "_view_module": "@jupyter-widgets/controls",
            "_view_module_version": "1.5.0",
            "_view_name": "HTMLView",
            "description": "",
            "description_tooltip": null,
            "layout": "IPY_MODEL_7e8694c601774e36aee22c2ed6f0a5dd",
            "placeholder": "​",
            "style": "IPY_MODEL_fbff1e6795924bceae8d47daec8bff7b",
            "value": " 86.7M/86.7M [00:02&lt;00:00, 90.0MB/s]"
          }
        },
        "c9615f1f3c204b0c9b766bc508c715ed": {
          "model_module": "@jupyter-widgets/base",
          "model_name": "LayoutModel",
          "model_module_version": "1.2.0",
          "state": {
            "_model_module": "@jupyter-widgets/base",
            "_model_module_version": "1.2.0",
            "_model_name": "LayoutModel",
            "_view_count": null,
            "_view_module": "@jupyter-widgets/base",
            "_view_module_version": "1.2.0",
            "_view_name": "LayoutView",
            "align_content": null,
            "align_items": null,
            "align_self": null,
            "border": null,
            "bottom": null,
            "display": null,
            "flex": null,
            "flex_flow": null,
            "grid_area": null,
            "grid_auto_columns": null,
            "grid_auto_flow": null,
            "grid_auto_rows": null,
            "grid_column": null,
            "grid_gap": null,
            "grid_row": null,
            "grid_template_areas": null,
            "grid_template_columns": null,
            "grid_template_rows": null,
            "height": null,
            "justify_content": null,
            "justify_items": null,
            "left": null,
            "margin": null,
            "max_height": null,
            "max_width": null,
            "min_height": null,
            "min_width": null,
            "object_fit": null,
            "object_position": null,
            "order": null,
            "overflow": null,
            "overflow_x": null,
            "overflow_y": null,
            "padding": null,
            "right": null,
            "top": null,
            "visibility": null,
            "width": null
          }
        },
        "7317a01fcfe24288b63cea7d3c1b57d0": {
          "model_module": "@jupyter-widgets/base",
          "model_name": "LayoutModel",
          "model_module_version": "1.2.0",
          "state": {
            "_model_module": "@jupyter-widgets/base",
            "_model_module_version": "1.2.0",
            "_model_name": "LayoutModel",
            "_view_count": null,
            "_view_module": "@jupyter-widgets/base",
            "_view_module_version": "1.2.0",
            "_view_name": "LayoutView",
            "align_content": null,
            "align_items": null,
            "align_self": null,
            "border": null,
            "bottom": null,
            "display": null,
            "flex": null,
            "flex_flow": null,
            "grid_area": null,
            "grid_auto_columns": null,
            "grid_auto_flow": null,
            "grid_auto_rows": null,
            "grid_column": null,
            "grid_gap": null,
            "grid_row": null,
            "grid_template_areas": null,
            "grid_template_columns": null,
            "grid_template_rows": null,
            "height": null,
            "justify_content": null,
            "justify_items": null,
            "left": null,
            "margin": null,
            "max_height": null,
            "max_width": null,
            "min_height": null,
            "min_width": null,
            "object_fit": null,
            "object_position": null,
            "order": null,
            "overflow": null,
            "overflow_x": null,
            "overflow_y": null,
            "padding": null,
            "right": null,
            "top": null,
            "visibility": null,
            "width": null
          }
        },
        "310e0151335046d9af00a92c0b2004ab": {
          "model_module": "@jupyter-widgets/controls",
          "model_name": "DescriptionStyleModel",
          "model_module_version": "1.5.0",
          "state": {
            "_model_module": "@jupyter-widgets/controls",
            "_model_module_version": "1.5.0",
            "_model_name": "DescriptionStyleModel",
            "_view_count": null,
            "_view_module": "@jupyter-widgets/base",
            "_view_module_version": "1.2.0",
            "_view_name": "StyleView",
            "description_width": ""
          }
        },
        "9c951a78e3f84141be8eb05342430d1d": {
          "model_module": "@jupyter-widgets/base",
          "model_name": "LayoutModel",
          "model_module_version": "1.2.0",
          "state": {
            "_model_module": "@jupyter-widgets/base",
            "_model_module_version": "1.2.0",
            "_model_name": "LayoutModel",
            "_view_count": null,
            "_view_module": "@jupyter-widgets/base",
            "_view_module_version": "1.2.0",
            "_view_name": "LayoutView",
            "align_content": null,
            "align_items": null,
            "align_self": null,
            "border": null,
            "bottom": null,
            "display": null,
            "flex": null,
            "flex_flow": null,
            "grid_area": null,
            "grid_auto_columns": null,
            "grid_auto_flow": null,
            "grid_auto_rows": null,
            "grid_column": null,
            "grid_gap": null,
            "grid_row": null,
            "grid_template_areas": null,
            "grid_template_columns": null,
            "grid_template_rows": null,
            "height": null,
            "justify_content": null,
            "justify_items": null,
            "left": null,
            "margin": null,
            "max_height": null,
            "max_width": null,
            "min_height": null,
            "min_width": null,
            "object_fit": null,
            "object_position": null,
            "order": null,
            "overflow": null,
            "overflow_x": null,
            "overflow_y": null,
            "padding": null,
            "right": null,
            "top": null,
            "visibility": null,
            "width": null
          }
        },
        "f6729f6ae62c45a2972f0508ad5fd7a1": {
          "model_module": "@jupyter-widgets/controls",
          "model_name": "ProgressStyleModel",
          "model_module_version": "1.5.0",
          "state": {
            "_model_module": "@jupyter-widgets/controls",
            "_model_module_version": "1.5.0",
            "_model_name": "ProgressStyleModel",
            "_view_count": null,
            "_view_module": "@jupyter-widgets/base",
            "_view_module_version": "1.2.0",
            "_view_name": "StyleView",
            "bar_color": null,
            "description_width": ""
          }
        },
        "7e8694c601774e36aee22c2ed6f0a5dd": {
          "model_module": "@jupyter-widgets/base",
          "model_name": "LayoutModel",
          "model_module_version": "1.2.0",
          "state": {
            "_model_module": "@jupyter-widgets/base",
            "_model_module_version": "1.2.0",
            "_model_name": "LayoutModel",
            "_view_count": null,
            "_view_module": "@jupyter-widgets/base",
            "_view_module_version": "1.2.0",
            "_view_name": "LayoutView",
            "align_content": null,
            "align_items": null,
            "align_self": null,
            "border": null,
            "bottom": null,
            "display": null,
            "flex": null,
            "flex_flow": null,
            "grid_area": null,
            "grid_auto_columns": null,
            "grid_auto_flow": null,
            "grid_auto_rows": null,
            "grid_column": null,
            "grid_gap": null,
            "grid_row": null,
            "grid_template_areas": null,
            "grid_template_columns": null,
            "grid_template_rows": null,
            "height": null,
            "justify_content": null,
            "justify_items": null,
            "left": null,
            "margin": null,
            "max_height": null,
            "max_width": null,
            "min_height": null,
            "min_width": null,
            "object_fit": null,
            "object_position": null,
            "order": null,
            "overflow": null,
            "overflow_x": null,
            "overflow_y": null,
            "padding": null,
            "right": null,
            "top": null,
            "visibility": null,
            "width": null
          }
        },
        "fbff1e6795924bceae8d47daec8bff7b": {
          "model_module": "@jupyter-widgets/controls",
          "model_name": "DescriptionStyleModel",
          "model_module_version": "1.5.0",
          "state": {
            "_model_module": "@jupyter-widgets/controls",
            "_model_module_version": "1.5.0",
            "_model_name": "DescriptionStyleModel",
            "_view_count": null,
            "_view_module": "@jupyter-widgets/base",
            "_view_module_version": "1.2.0",
            "_view_name": "StyleView",
            "description_width": ""
          }
        }
      }
    }
  },
  "cells": [
    {
      "cell_type": "code",
      "execution_count": 1,
      "metadata": {
        "id": "60dtNznBkiDk"
      },
      "outputs": [],
      "source": [
        "import tensorflow as tf\n",
        "import tensorflow_hub as hub\n",
        "import numpy as np\n",
        "import matplotlib.pyplot as plt\n",
        "from sklearn.linear_model import LogisticRegression\n",
        "from sklearn.metrics import accuracy_score\n"
      ]
    },
    {
      "cell_type": "code",
      "source": [
        "# Install a compatible MedMNIST version\n",
        "!pip -q install medmnist==3.0.2\n",
        "\n",
        "import numpy as np\n",
        "import tensorflow as tf\n",
        "from medmnist import PneumoniaMNIST\n",
        "\n",
        "# Load splits (as_rgb=False -> grayscale). Some envs return (N,28,28) (no channel)\n",
        "train_set = PneumoniaMNIST(split='train', download=True, as_rgb=False)\n",
        "test_set  = PneumoniaMNIST(split='test',  download=True, as_rgb=False)\n",
        "\n",
        "# Ensure channel dimension exists: (N,28,28,1)\n",
        "def ensure_channel(imgs):\n",
        "    return imgs[..., np.newaxis] if imgs.ndim == 3 else imgs\n",
        "\n",
        "x_train = ensure_channel(train_set.imgs).astype(\"float32\") / 255.0  # (N,28,28,1)\n",
        "y_train = train_set.labels.astype(\"int32\").squeeze()\n",
        "x_test  = ensure_channel(test_set.imgs).astype(\"float32\")  / 255.0\n",
        "y_test  = test_set.labels.astype(\"int32\").squeeze()\n",
        "\n",
        "# Map to 224×224 and RGB for ViT/DINO encoders\n",
        "def to_224_rgb(x, y):\n",
        "    x = tf.image.resize(x, (224, 224))      # (224,224,1)\n",
        "    x = tf.image.grayscale_to_rgb(x)        # (224,224,3)\n",
        "    return x, y\n",
        "\n",
        "train_ds = tf.data.Dataset.from_tensor_slices((x_train, y_train)) \\\n",
        "    .map(to_224_rgb, num_parallel_calls=tf.data.AUTOTUNE) \\\n",
        "    .shuffle(10000).batch(32).prefetch(tf.data.AUTOTUNE)\n",
        "\n",
        "test_ds = tf.data.Dataset.from_tensor_slices((x_test, y_test)) \\\n",
        "    .map(to_224_rgb, num_parallel_calls=tf.data.AUTOTUNE) \\\n",
        "    .batch(32).prefetch(tf.data.AUTOTUNE)\n",
        "\n",
        "# Keep the original variable name expected later\n",
        "data_dir = train_ds\n",
        "\n",
        "# (Optional) NumPy arrays for linear probe blocks expecting arrays later\n",
        "X_train_np = np.stack([\n",
        "    tf.image.grayscale_to_rgb(tf.image.resize(tf.convert_to_tensor(img), (224,224))).numpy()\n",
        "    for img in x_train\n",
        "])\n",
        "X_test_np = np.stack([\n",
        "    tf.image.grayscale_to_rgb(tf.image.resize(tf.convert_to_tensor(img), (224,224))).numpy()\n",
        "    for img in x_test\n",
        "])\n"
      ],
      "metadata": {
        "id": "nurLA-ZGmNAA"
      },
      "execution_count": 6,
      "outputs": []
    },
    {
      "cell_type": "code",
      "source": [
        "# Install PyTorch + timm (CPU wheels are fine; will use GPU if available)\n",
        "!pip -q install torch torchvision timm --extra-index-url https://download.pytorch.org/whl/cpu\n",
        "\n",
        "import torch\n",
        "import timm\n",
        "from torchvision import transforms as T\n",
        "\n",
        "device = \"cuda\" if torch.cuda.is_available() else \"cpu\"\n",
        "\n",
        "# DINO ViT-S/16 feature extractor\n",
        "dino_model = timm.create_model(\"vit_small_patch16_224.dino\", pretrained=True, num_classes=0)\n",
        "dino_model = dino_model.to(device).eval()\n",
        "\n",
        "# Imagenet normalization for ViT\n",
        "IMAGENET_MEAN = (0.485, 0.456, 0.406)\n",
        "IMAGENET_STD  = (0.229, 0.224, 0.225)\n",
        "\n",
        "to_tensor = T.Compose([\n",
        "    T.ToTensor(),                       # (H,W,C) [0,255] or [0,1] -> (C,H,W) float\n",
        "    T.Normalize(IMAGENET_MEAN, IMAGENET_STD)\n",
        "])\n"
      ],
      "metadata": {
        "colab": {
          "base_uri": "https://localhost:8080/",
          "height": 153,
          "referenced_widgets": [
            "6ced2741f3d84a54a03b50c60b7044b6",
            "68385c6fae2a4b57887cbc2b84eecad5",
            "44bb6ef9e7f74eca8286e5ebd13d691f",
            "8484be35b56045cca06bbada06b4d06d",
            "c9615f1f3c204b0c9b766bc508c715ed",
            "7317a01fcfe24288b63cea7d3c1b57d0",
            "310e0151335046d9af00a92c0b2004ab",
            "9c951a78e3f84141be8eb05342430d1d",
            "f6729f6ae62c45a2972f0508ad5fd7a1",
            "7e8694c601774e36aee22c2ed6f0a5dd",
            "fbff1e6795924bceae8d47daec8bff7b"
          ]
        },
        "id": "08XKXMMvmVBf",
        "outputId": "7a196af7-a076-40c3-c3c5-95a9faa1f0e2"
      },
      "execution_count": 8,
      "outputs": [
        {
          "output_type": "stream",
          "name": "stderr",
          "text": [
            "/usr/local/lib/python3.12/dist-packages/huggingface_hub/utils/_auth.py:94: UserWarning: \n",
            "The secret `HF_TOKEN` does not exist in your Colab secrets.\n",
            "To authenticate with the Hugging Face Hub, create a token in your settings tab (https://huggingface.co/settings/tokens), set it as secret in your Google Colab and restart your session.\n",
            "You will be able to reuse this secret in all of your notebooks.\n",
            "Please note that authentication is recommended but still optional to access public models or datasets.\n",
            "  warnings.warn(\n"
          ]
        },
        {
          "output_type": "display_data",
          "data": {
            "text/plain": [
              "model.safetensors:   0%|          | 0.00/86.7M [00:00<?, ?B/s]"
            ],
            "application/vnd.jupyter.widget-view+json": {
              "version_major": 2,
              "version_minor": 0,
              "model_id": "6ced2741f3d84a54a03b50c60b7044b6"
            }
          },
          "metadata": {}
        }
      ]
    },
    {
      "cell_type": "code",
      "source": [
        "import numpy as np\n",
        "import torch\n",
        "\n",
        "# ImageNet normalization (broadcasted over NCHW tensors)\n",
        "IMAGENET_MEAN = torch.tensor([0.485, 0.456, 0.406]).view(1,3,1,1)\n",
        "IMAGENET_STD  = torch.tensor([0.229, 0.224, 0.225]).view(1,3,1,1)\n",
        "\n",
        "def embed_numpy_images(np_images, model, device=\"cpu\", batch_size=64):\n",
        "    \"\"\"\n",
        "    np_images: float32 in [0,1], shape (N,224,224,3)\n",
        "    returns: features array of shape (N, D)\n",
        "    \"\"\"\n",
        "    model.eval()\n",
        "    feats = []\n",
        "    N = len(np_images)\n",
        "    for i in range(0, N, batch_size):\n",
        "        batch = np_images[i:i+batch_size]                              # (B,224,224,3)\n",
        "        x = torch.from_numpy(np.transpose(batch, (0,3,1,2))).float()   # (B,3,224,224)\n",
        "        # normalize to ImageNet stats\n",
        "        x = (x - IMAGENET_MEAN) / IMAGENET_STD\n",
        "        x = x.to(device, non_blocking=True)\n",
        "        with torch.no_grad():\n",
        "            z = model(x)                                               # (B, D)\n",
        "        feats.append(z.cpu().numpy())\n",
        "    return np.concatenate(feats, axis=0)\n"
      ],
      "metadata": {
        "id": "F8KzyJcoqtrp"
      },
      "execution_count": 10,
      "outputs": []
    },
    {
      "cell_type": "code",
      "source": [
        "# Uses X_train_np / X_test_np from Cell 2 and dino_model/device from Cell 3\n",
        "X_train_feats = embed_numpy_images(X_train_np, dino_model, device=device, batch_size=64)\n",
        "X_test_feats  = embed_numpy_images(X_test_np,  dino_model, device=device, batch_size=64)\n",
        "print(\"Train feats:\", X_train_feats.shape, \"Test feats:\", X_test_feats.shape)\n"
      ],
      "metadata": {
        "colab": {
          "base_uri": "https://localhost:8080/"
        },
        "id": "h9BBsrjGtNiz",
        "outputId": "f6b669ff-fb3d-4d16-bf7c-aa4f9d43475c"
      },
      "execution_count": 11,
      "outputs": [
        {
          "output_type": "stream",
          "name": "stdout",
          "text": [
            "Train feats: (4708, 384) Test feats: (624, 384)\n"
          ]
        }
      ]
    },
    {
      "cell_type": "code",
      "source": [
        "from sklearn.linear_model import LogisticRegression\n",
        "from sklearn.metrics import accuracy_score\n",
        "from sklearn.decomposition import PCA\n",
        "import matplotlib.pyplot as plt\n",
        "\n",
        "# y_train / y_test come from Cell 2\n",
        "clf = LogisticRegression(max_iter=2000, n_jobs=-1).fit(X_train_feats, y_train)\n",
        "acc = accuracy_score(y_test, clf.predict(X_test_feats))\n",
        "print(f\"Linear probe accuracy on medical data (DINO features): {acc:.3f}\")\n",
        "\n",
        "Z = PCA(n_components=2, random_state=0).fit_transform(X_test_feats)\n",
        "plt.scatter(Z[:,0], Z[:,1], c=y_test, s=6)\n",
        "plt.title(\"DINO Representations – Medical Domain\")\n",
        "plt.xlabel(\"PC1\"); plt.ylabel(\"PC2\"); plt.show()\n"
      ],
      "metadata": {
        "colab": {
          "base_uri": "https://localhost:8080/",
          "height": 489
        },
        "id": "T0ESSvCPujr6",
        "outputId": "d3740cc1-635b-4810-8e08-a1b975410495"
      },
      "execution_count": 12,
      "outputs": [
        {
          "output_type": "stream",
          "name": "stdout",
          "text": [
            "Linear probe accuracy on medical data (DINO features): 0.875\n"
          ]
        },
        {
          "output_type": "display_data",
          "data": {
            "text/plain": [
              "<Figure size 640x480 with 1 Axes>"
            ],
            "image/png": "[encoded data removed]"
          },
          "metadata": {}
        }
      ]
    },
    {
      "cell_type": "code",
      "source": [],
      "metadata": {
        "id": "pfWwrAWnu0Vw"
      },
      "execution_count": null,
      "outputs": []
    }
  ]
}